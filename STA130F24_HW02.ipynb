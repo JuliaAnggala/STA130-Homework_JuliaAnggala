{
 "cells": [
  {
   "cell_type": "markdown",
   "id": "f1606a21",
   "metadata": {},
   "source": [
    "PRE-LECTURE HW QUESTION 1&2 IN CHATBOT\n",
    "PRE LECTURE HW QUESTION 3 DOWN BELOW: "
   ]
  },
  {
   "cell_type": "code",
   "execution_count": 7,
   "id": "39f04b77",
   "metadata": {},
   "outputs": [],
   "source": [
    "\n",
    "import numpy as np\n",
    "all_door_options = [1, 2, 3] \n",
    "i_won = 0\n",
    "reps = 100000\n",
    "\n",
    "for _ in range(reps):\n",
    "    secret_winning_door = np.random.choice(all_door_options)\n",
    "    my_door_choice =1\n",
    "    goat_door_reveal = np.random.choice([door for door in all_door_options if door != my_door_choice and door != secret_winning_door])\n",
    "    remaining_door = [door for door in all_door_options if door != my_door_choice and door != goat_door_reveal][0]\n",
    "    if remaining_door == secret_winning_door:\n",
    "        i_won +=1\n",
    "        \n",
    "    win_percentage = i_won / reps\n",
    "    win_percentage"
   ]
  },
  {
   "cell_type": "markdown",
   "id": "067a2451",
   "metadata": {},
   "source": [
    "This version of the code uses compact lists to create steps that act out the Monty Hall Scenario, as if it were a script. \n",
    "\n",
    "We begin essentially; by setting up the stage for a play \n",
    "\n",
    "import numpy as np: this imports a library of different operations to work in python, just like setting up props for the scenario to play out on stage\n",
    "\n",
    "all_door_options: this code sequences out the three door options in a tuple; a list-like data strucutre, like listing out the three doors in front of you \n",
    "\n",
    "i_won: this is a score keeper, like a buzz keeper in a basketball games that counts how many times you made a shot; excpet this time it is counting how many times you have switched to the correct door \n",
    "\n",
    "reps: this is the number of the times the stimulation/play will play out in front of you/in the code\n",
    "\n",
    "for i in range: for represents the loop; this is telling the code to execute the following block of code for the amount of reps we assigned. \n",
    "\n",
    "secret_winning_door: this variable hodes the assigned task for the code to pick a random door as the winning door for each new rep\n",
    "\n",
    "my_door_choice: this variable holds the assigned task to make us pick door 1 as our intial choice at the beginning of each new rep\n",
    "\n",
    "goat_door_reveal: this variable holds the assigned task to have monty open up the door you did not choose and reveal one of the goats\n",
    "\n",
    "remaining_door: this variable holds the assigned task to have you pick the remaining unopened door, aka switch your choice \n",
    "\n",
    "if remaing_door: holds the code to calculate wether or note the door we picked does indeed have the car behind it or not if you won, it adds 1 to the counter \n",
    "\n",
    "lastly the code calculates your win percentage throughout all of the reps/loops\n"
   ]
  },
  {
   "cell_type": "markdown",
   "id": "ad03863a",
   "metadata": {},
   "source": [
    "PRELECTURE HW QUESTION 4 DONE IN CHATBOT"
   ]
  },
  {
   "cell_type": "markdown",
   "id": "0f9c2036",
   "metadata": {},
   "source": [
    "POSTLECTURE HW QUESTION 5 DONE IN CHATBOT"
   ]
  },
  {
   "cell_type": "markdown",
   "id": "5f0714fc",
   "metadata": {},
   "source": [
    "POSTLECTURE HW QUESTION 6: \n",
    "A) Discuss how quickly the ChatBot was able to be helpful for each of the above questions, and if so, how?\n",
    "The ChatBot was able to help me very quickly for each of the questions above. This is because it would come out with reponses fast, and instead of repeating what it said before whenever I asked questions for more calirfication it would break down the code further and further into detail, in relation with the Monty Hall Scenario or the Markovian code. It felt that when they got carried away I coudl bring the chatbot back to focus on one specific thing before asking it to relate the code to the bigger picture. \n",
    "\n",
    "B) Discuss whether or not interacting with ChatBot to try to figure things out was frustrating or unhelpful, and if so, how?\n",
    "I did not find anything unhelpful about the ChatBot, infact interacting with the ChatBot almost felt like interacting with a tutor in front of me. If there were certain parts of the code that I did not understand from the tutorials I missed by enrolling late, or something that I missed in the lectures I could have the chatbot explain the logic begind certain words or formatting of the code for me, in order to get a deeper understadning of the code and what it is doing. \n",
    "\n",
    "\n",
    "C) Based on your experiences to date (e.g., including using ChatBots to troubleshoot coding errors in the previous homework), provide an overall assessment evaluating the usefulness of ChatBots as tools to help you understand code\n",
    "My experiences up to date have been overwhelmingly successfull. Overall it does feel like I am reaching out to an interactive textbook that can focus in or zoom out on a code for me to describe the analytics behind a code. However, it is safe to say that even if the ChatBot uses friendly language in their messages it is not the same as presenting your issue on a reddit forum persay, on forums with real people their solutions tend to be in a simpler language or more geared towards your specific problem because they had to work through it the same way you have too, whereas a chatbot is just using data inputted into it. The ChatBot seems to have the capability to do everything, and fails to lack the empathy or understanding to explain how to work through a mistake with you like a human who has made the same mistake can. "
   ]
  },
  {
   "cell_type": "markdown",
   "id": "2af53a3b",
   "metadata": {},
   "source": [
    "POSTLECTURE HW QUESTION 7\n",
    "Reflect on your experience interacting with ChatBot and describe how your perception of AI-driven assistance tools in the context of learning coding, statistics, and data science has been evolving (or not) since joining the course\n",
    "\n",
    "I believe my perceptio of using AI tools has changed greatly since joining the course. Before I essentially would only use the help of a real life human, such as my teachers or peers, to help me understand a text/problem because I believed that it can only be accurately understand and explained by an actual human being, due to nuances in different problems and just the fact that your peers and teachers share the same social culture as you do. However, since joining this course I have seen how using AI-driven assisted tools in issues related heavily to tech language is greatly beneficial. Since the language used in python and terms used are greatly specific and cannot be subsituted as easily; such as words are in the english languages when speaking face to face with someone; a computer can be very helpful in giving you the exact definition, as there should only be one. There is less room for literacy critical reading error when using AI to help with something such as coding because it is such an exact language "
   ]
  },
  {
   "cell_type": "markdown",
   "id": "1b03c939",
   "metadata": {},
   "source": [
    "POSTLECTURE HW QUESTION 8\n",
    "A) Start a new ChatBot session and discuss the relevance of learning and adaptability, communication, coding, and statistics and data analysis as skills in the modern world, especially with respect to career opportunities (particularly in the context of the data science industry)\n",
    "done in ChatBot\n",
    "\n",
    "B) See if ChatBot thinks you could be a statistician or data scientist without coding or doing data analysis, and then transition your ChatBot conversation into a career exploration discussion, using the ChatBot to identify the skills that might be the most valuable for a career that you're interested\n",
    "Done it ChatBot \n",
    "\n",
    "C) Ask for a summary of this ChatBot session and paste it into your homework notebook (including link(s) to chat log histories if you're using ChatBot)\n",
    "In the Bottom Markdown Cell \n",
    "\n",
    "D) Paraphrase the assessments and conclusions of your conversation in the form of a reflection on your current thoughts regarding your potential future career(s) and how you can go about building the skills you need to pursue it\n",
    "\n",
    "\n",
    "E) Give your thoughts regarding the helpfulness or limitations of your conversation with a ChatBot, and describe the next steps you would take to pursue this conversation further if you felt the information the ChatBot provides was somewhat high level and general, and perhaps lacked the depth and detailed knowledge of a dedicated subject matter expert who had really take the time to understand the ins and outs of the industry and career path in question"
   ]
  },
  {
   "cell_type": "markdown",
   "id": "d4af1a68",
   "metadata": {},
   "source": [
    "POSTLECTURE HOMEWORK QUESTION 9\n",
    "no "
   ]
  },
  {
   "cell_type": "code",
   "execution_count": null,
   "id": "9daae224",
   "metadata": {},
   "outputs": [],
   "source": [
    "Here's a summary of our interaction:\n",
    "\n",
    "Monte Hall Problem: We discussed the Monte Hall problem, its concepts, and a simulation code you shared. You asked for explanations of the code and suggestions for streamlining it.\n",
    "\n",
    "Markovian Chatbot Code: You provided your initial Markovian chatbot code and its extensions. We explored the functionality of the extensions, including their impact on character-specific chains.\n",
    "\n",
    "Data Analyst in the Fashion Industry: You expressed interest in working as a data analyst in the fashion industry. I provided a roadmap detailing educational background, skill development, gaining experience, networking, and applying for jobs.\n",
    "\n",
    "Combining Art and Analytical Skills: We explored various careers that combine artistic and analytical skills, such as data visualization specialist, UX designer, and fashion analyst.\n",
    "\n",
    "Career as a Fashion Analyst: You inquired about the demand for fashion analysts, and I explained the growing need for data-driven decision-making in the fashion industry. I then outlined steps to pursue a career as a fashion analyst.\n",
    "\n",
    "If you have any more questions or need further information, feel free to ask!\n",
    "\n",
    "https://chatgpt.com/share/66ecee5c-2374-800f-aa37-95be0e4ab3a4 "
   ]
  }
 ],
 "metadata": {
  "kernelspec": {
   "display_name": "Python 3 (ipykernel)",
   "language": "python",
   "name": "python3"
  },
  "language_info": {
   "codemirror_mode": {
    "name": "ipython",
    "version": 3
   },
   "file_extension": ".py",
   "mimetype": "text/x-python",
   "name": "python",
   "nbconvert_exporter": "python",
   "pygments_lexer": "ipython3",
   "version": "3.11.6"
  }
 },
 "nbformat": 4,
 "nbformat_minor": 5
}
